{
 "cells": [
  {
   "cell_type": "markdown",
   "metadata": {},
   "source": [
    "## 代码注意事项\n",
    "1. 异常检测：需要对空对象进行特判\n",
    "    list = [], string = None or ''.\n",
    "2. 变量命名：尽量不要用单个字符进行命名\n",
    "    不要用i, j, k, 用left, right, mid.\n",
    "3. 代码美观：在必要的位置需要加上空格\n",
    "    不要挤在一起  \n",
    "    Bad: ed = st+l-1  \n",
    "    Good: ed = st + l - 1  \n",
    "4. 缩进过多：通过用函数包装代码块减少代码的缩进   \n",
    "    使用子函数减少嵌套次数  \n",
    "    不同逻辑块用空行分开"
   ]
  },
  {
   "cell_type": "markdown",
   "metadata": {},
   "source": []
  }
 ],
 "metadata": {
  "kernelspec": {
   "display_name": "Python_AIND",
   "language": "python",
   "name": "aind"
  },
  "language_info": {
   "codemirror_mode": {
    "name": "ipython",
    "version": 3
   },
   "file_extension": ".py",
   "mimetype": "text/x-python",
   "name": "python",
   "nbconvert_exporter": "python",
   "pygments_lexer": "ipython3",
   "version": "3.6.0"
  }
 },
 "nbformat": 4,
 "nbformat_minor": 2
}
