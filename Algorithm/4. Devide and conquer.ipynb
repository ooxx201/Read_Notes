{
 "cells": [
  {
   "cell_type": "markdown",
   "id": "7a3503fe",
   "metadata": {},
   "source": [
    "## Devide and conquer"
   ]
  },
  {
   "cell_type": "code",
   "execution_count": null,
   "id": "ef18c1ea",
   "metadata": {},
   "outputs": [],
   "source": [
    "# 二分法模板\n",
    "class Solution:\n",
    "    # @param nums: The integer array\n",
    "    # @param target: Target number to find\n",
    "    # @return the first position of target in nums, position start from 0 \n",
    "    def binarySearch(self, nums, target):\n",
    "        if not nums:\n",
    "            return -1\n",
    "\n",
    "        start, end = 0, len(nums) - 1\n",
    "        # 用 start + 1 < end 而不是 start < end 的目的是为了避免死循环\n",
    "        # 在 first position of target 的情况下不会出现死循环\n",
    "        # 但是在 last position of target 的情况下会出现死循环\n",
    "        # 样例：nums=[1，1] target = 1\n",
    "        # 为了统一模板，我们就都采用 start + 1 < end，就保证不会出现死循环\n",
    "        while start + 1 < end:\n",
    "            # python 没有 overflow 的问题，直接 // 2 就可以了\n",
    "            # java和C++ 最好写成 mid = start + (end - start) / 2\n",
    "            # 防止在 start = 2^31 - 1, end = 2^31 - 1 的情况下出现加法 overflow\n",
    "            mid = (start + end) // 2\n",
    "\n",
    "            # > , =, < 的逻辑先分开写，然后在看看 = 的情况是否能合并到其他分支里\n",
    "            # 为什么明明可以 start = mid + 1 偏偏要写成 start = mid?\n",
    "            # 大部分时候，mid 是可以 +1 和 -1 的。在一些特殊情况下，\n",
    "            # 比如寻找目标的最后一次出现的位置时，当 target 与 nums[mid] 相等的时候，\n",
    "            # 是不能够使用 mid + 1 或者 mid - 1 的。因为会导致漏掉解。\n",
    "            # 那么为了节省脑力，统一写成 start = mid / end = mid 并不会造成任何解的丢失，\n",
    "            # 并且也不会损失效率——log(n) 和 log(n+1) 没有区别。\n",
    "            if nums[mid] < target:\n",
    "                start = mid\n",
    "            elif nums[mid] == target:\n",
    "                end = mid\n",
    "            else: \n",
    "                end = mid\n",
    "\n",
    "        # 因为上面的循环退出条件是 start + 1 < end\n",
    "        # 因此这里循环结束的时候，start 和 end 的关系是相邻关系（1和2，3和4这种）\n",
    "        # 因此需要再单独判断 start 和 end 这两个数谁是我们要的答案\n",
    "        # 如果是找 first position of target 就先看 start，否则就先看 end\n",
    "        if nums[start] == target:\n",
    "            return start\n",
    "        if nums[end] == target:\n",
    "            return end\n",
    "\n",
    "        return -1"
   ]
  },
  {
   "cell_type": "code",
   "execution_count": null,
   "id": "b8ba7af7",
   "metadata": {},
   "outputs": [],
   "source": []
  }
 ],
 "metadata": {
  "kernelspec": {
   "display_name": "Python [conda env:AIND]",
   "language": "python",
   "name": "conda-env-AIND-py"
  },
  "language_info": {
   "codemirror_mode": {
    "name": "ipython",
    "version": 3
   },
   "file_extension": ".py",
   "mimetype": "text/x-python",
   "name": "python",
   "nbconvert_exporter": "python",
   "pygments_lexer": "ipython3",
   "version": "3.9.5"
  }
 },
 "nbformat": 4,
 "nbformat_minor": 5
}
