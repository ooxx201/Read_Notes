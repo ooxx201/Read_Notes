{
 "cells": [
  {
   "cell_type": "markdown",
   "id": "66a246a7",
   "metadata": {},
   "source": [
    "## Heap  \n",
    "堆是一棵满足如下性质的二叉树：  \n",
    "1、父节点的键值总是不大于它的孩子节点的键值（小顶堆）。  \n",
    "2、父节点的键值总是不小于它的孩子节点的键值（大顶堆）。  \n",
    "由于堆是一棵形态规则的二叉树，因此堆的父节点和孩子节点存在如下关系（根节点编号为0）：  \n",
    "* 设父节点的编号为 i, 则其左孩子节点的编号为2i+1, 右孩子节点的编号为2i+2  \n",
    "* 设孩子节点的编号为i, 则其父节点的编号为(i-1)/2  \n",
    "* 由于上面的性质，父节点一定比他的儿节点小（大），所以整个树的树根的值一定是最小（最大）的，那么我们就能在O(1)的时间内，获得整个堆的极值。  \n"
   ]
  },
  {
   "cell_type": "markdown",
   "id": "bf4954fb",
   "metadata": {},
   "source": [
    "## siftup & siftdown  \n",
    "### 基于 Siftup 的版本 O(nlogn)  \n",
    "给定一个数组A[]，我们的目的是要将 A[] 堆化，也就是让A[]满足以下要求：\n",
    "\n",
    "* A[i * 2 + 1] >= A[i]\n",
    "* A[i * 2 + 2] >= A[i]  \n",
    "\n",
    "对于每个元素A[i]，比较A[i]和它的父亲结点的大小，如果小于父亲结点，则与父亲结点交换。  \n",
    "交换后再和新的父亲比较，重复上述操作，直至该点的值大于父亲。   \n",
    "时间复杂度分析：  \n",
    "对于每个元素都要遍历一遍，这部分是 O(n)  \n",
    "每处理一个元素时，最多需要向根部方向交换 logn次。  \n",
    "因此总的时间复杂度是 O(nlogn)  "
   ]
  },
  {
   "cell_type": "markdown",
   "id": "c536fd36",
   "metadata": {},
   "source": [
    "### 基于 Siftdown 的版本 O(n)  \n",
    "初始选择最接近叶子的一个父结点，与其两个儿子中较小的一个比较，若大于儿子，则与儿子交换。  \n",
    "交换后再与新的儿子比较并交换，直至没有儿子。  \n",
    "再选择较浅深度的父亲结点，重复上述步骤。  \n",
    "时间复杂度分析:  \n",
    "这个版本的算法，乍一看也是 O(nlogn)， 但是我们仔细分析一下，算法从第 n/2 个数开始，倒过来进行 siftdown。也就是说，相当于从 heap 的倒数第二层开始进行 siftdown 操作，倒数第二层的节点大约有 n/4 个， 这 n/4 个数，最多 siftdown 1次就到底了，所以这一层的时间复杂度耗费是 O(n/4)，然后倒数第三层差不多 n/8 个点，最多 siftdown 2次就到底了。所以这里的耗费是 O(n/8 * 2), 倒数第4层是 O(n/16 * 3)，倒数第5层是 O(n/32 * 4) ... 因此累加所有的时间复杂度耗费为：  \n",
    "T(n) = O(n/4) + O(n/8 * 2) + O(n/16 * 3) ...  \n",
    "然后我们用 2T - T 得到：  \n",
    "2 * T(n) = O(n/2) + O(n/4 * 2) + O(n/8 * 3) + O(n/16 * 4) ...  \n",
    "T(n) = O(n/4) + O(n/8 * 2) + O(n/16 * 3) ...  \n",
    "  \n",
    "2 * T(n) - T(n) = O(n/2) +O (n/4) + O(n/8) + ...  \n",
    "= O(n/2 + n/4 + n/8 + ... )  \n",
    "= O(n)  \n",
    "因此得到 T(n) = 2 * T(n) - T(n) = O(n)  "
   ]
  },
  {
   "cell_type": "code",
   "execution_count": null,
   "id": "fb58fbf2",
   "metadata": {},
   "outputs": [],
   "source": []
  }
 ],
 "metadata": {
  "kernelspec": {
   "display_name": "Python [conda env:AIND]",
   "language": "python",
   "name": "conda-env-AIND-py"
  },
  "language_info": {
   "codemirror_mode": {
    "name": "ipython",
    "version": 3
   },
   "file_extension": ".py",
   "mimetype": "text/x-python",
   "name": "python",
   "nbconvert_exporter": "python",
   "pygments_lexer": "ipython3",
   "version": "3.9.5"
  }
 },
 "nbformat": 4,
 "nbformat_minor": 5
}
