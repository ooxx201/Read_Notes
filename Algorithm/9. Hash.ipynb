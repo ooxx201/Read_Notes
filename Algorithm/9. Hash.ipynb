{
 "cells": [
  {
   "cell_type": "markdown",
   "id": "4134fdf7",
   "metadata": {},
   "source": [
    "* Open hashing  \n",
    "    List of LinkedList \n",
    "<pre>\n",
    "    1 null null 4 null null null \n",
    "    |           |\n",
    "   e11         e41\n",
    "    |\n",
    "   e12\n",
    "</pre>\n",
    "\n",
    "* Close hashing\n",
    "    就是一个List，如果hash的位置已经被占用，先后找第一个空闲位置。\n",
    "<pre>\n",
    "   e11  e12 null e41 null null null \n",
    "</pre>"
   ]
  },
  {
   "cell_type": "markdown",
   "id": "394ddfa0",
   "metadata": {},
   "source": [
    "## Hashfunction\n",
    "* 固定  \n",
    "    对于特定key，每次hash value都一样。\n",
    "* 无规律  \n",
    "    无法通过hash value反推key。  \n",
    "    并且尽量让value呈均匀分布，减少confliction。"
   ]
  },
  {
   "cell_type": "markdown",
   "id": "19ce8e0a",
   "metadata": {},
   "source": [
    "冲突（Collision），是说两个不同的 key 经过哈希函数的计算后，得到了两个相同的值。解决冲突的方法，主要有两种：\n",
    "* 开散列法（Open Hashing）。  \n",
    "    是指哈希表所基于的数组中，每个位置是一个 Linked List 的头结点。这样冲突的 <key, value> 二元组，就都放在同一个链表中。\n",
    "* 闭散列法（Closed Hashing）。  \n",
    "    是指在发生冲突的时候，后来的元素，往下一个位置去找空位。"
   ]
  },
  {
   "cell_type": "markdown",
   "id": "ca1dfb76",
   "metadata": {},
   "source": [
    "## Rehashing  \n",
    "* 当hash表元素太满，就需要扩容，一般翻倍。\n",
    "* 因为capacity变化之后，hash value也会变化，需要将每一个key重新计算value，加入到新的hash表中。"
   ]
  }
 ],
 "metadata": {
  "kernelspec": {
   "display_name": "Python [conda env:AIND]",
   "language": "python",
   "name": "conda-env-AIND-py"
  },
  "language_info": {
   "codemirror_mode": {
    "name": "ipython",
    "version": 3
   },
   "file_extension": ".py",
   "mimetype": "text/x-python",
   "name": "python",
   "nbconvert_exporter": "python",
   "pygments_lexer": "ipython3",
   "version": "3.9.5"
  }
 },
 "nbformat": 4,
 "nbformat_minor": 5
}
