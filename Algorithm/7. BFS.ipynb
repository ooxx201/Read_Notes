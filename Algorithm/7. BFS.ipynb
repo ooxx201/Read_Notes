{
 "cells": [
  {
   "cell_type": "markdown",
   "id": "13236ee6",
   "metadata": {},
   "source": [
    "## BFS\n",
    "1. 单队列\n",
    "2. 双队列\n",
    "3. DummyNode\n",
    "    用于分层  \n",
    "    eg: 1#23#456#78 (实际操作一般用None做层级间分隔符)\n",
    "<pre>\n",
    "             1\n",
    "           /   \\\n",
    "         2       3\n",
    "        / \\     /\n",
    "       4   5   6\n",
    "              / \\\n",
    "             7   8   \n",
    "</pre>"
   ]
  },
  {
   "cell_type": "markdown",
   "id": "b7a8fd50",
   "metadata": {},
   "source": [
    "## Graph\n",
    "二叉树的BFS vs 图的BFS：\n",
    "二叉树中进行 BFS 和图中进行 BFS 最大的区别就是二叉树中无需使用 HashSet（C++: unordered_map, Python: dict) 来存储访问过的节点（丢进过 queue 里的节点）\n",
    "因为二叉树这种数据结构，上下层关系分明，没有环（circle），所以不可能出现一个节点的儿子的儿子是自己的情况。\n",
    "但是在图中，一个节点的邻居的邻居就可能是自己了。"
   ]
  },
  {
   "cell_type": "code",
   "execution_count": null,
   "id": "8b6488d4",
   "metadata": {},
   "outputs": [],
   "source": []
  }
 ],
 "metadata": {
  "kernelspec": {
   "display_name": "Python [conda env:AIND]",
   "language": "python",
   "name": "conda-env-AIND-py"
  },
  "language_info": {
   "codemirror_mode": {
    "name": "ipython",
    "version": 3
   },
   "file_extension": ".py",
   "mimetype": "text/x-python",
   "name": "python",
   "nbconvert_exporter": "python",
   "pygments_lexer": "ipython3",
   "version": "3.9.5"
  }
 },
 "nbformat": 4,
 "nbformat_minor": 5
}
