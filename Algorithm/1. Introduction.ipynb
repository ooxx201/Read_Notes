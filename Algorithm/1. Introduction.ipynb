{
 "cells": [
  {
   "cell_type": "markdown",
   "metadata": {
    "deletable": true,
    "editable": true
   },
   "source": [
    "## 1 代码风格\n",
    "1. 缩进不要超过3层，过于深的嵌套使用subfunction解耦。\n",
    "2. 工程代码里不要用switch case, 太容易出错，用if else就可以了。\n",
    "3. 固定类型不要用数字表示, 变量名要有意义。\n",
    "4. 下标访问要检查越界。"
   ]
  },
  {
   "cell_type": "code",
   "execution_count": null,
   "metadata": {
    "collapsed": true,
    "deletable": true,
    "editable": true
   },
   "outputs": [],
   "source": [
    "# Bad style\n",
    "if grid[i][j] == 1:\n",
    "    # todo\n",
    "elif grid[i][j] == 2:\n",
    "    # todo\n",
    "    \n",
    "# Good style\n",
    "class GridType:\n",
    "    WALL = 1\n",
    "    PEOPLE = 2\n",
    "    \n",
    "if grid[i][j] == GridType.WALL:\n",
    "    # todo\n",
    "elif grid[i][j] == GridType.PEOPLE:\n",
    "    # todo"
   ]
  },
  {
   "cell_type": "markdown",
   "metadata": {},
   "source": [
    "## 代码注意事项\n",
    "1. 异常检测：需要对空对象进行特判\n",
    "    list = [], string = None or ''.\n",
    "2. 变量命名：尽量不要用单个字符进行命名\n",
    "    不要用i, j, k, 用left, right, mid.\n",
    "3. 代码美观：在必要的位置需要加上空格\n",
    "    不要挤在一起  \n",
    "    Bad: ed = st+l-1  \n",
    "    Good: ed = st + l - 1  \n",
    "4. 缩进过多：通过用函数包装代码块减少代码的缩进   \n",
    "    使用子函数减少嵌套次数  \n",
    "    不同逻辑块用空行分开"
   ]
  },
  {
   "cell_type": "markdown",
   "metadata": {
    "deletable": true,
    "editable": true
   },
   "source": [
    "## 2 项目经验\n",
    "1. 耦合度高\n",
    "2. 重复代码\n",
    "3. 全局变量  \n",
    "\n",
    "*好代码不需要注释，含义清晰的变量命名跟简单易懂的逻辑处理更重要*"
   ]
  },
  {
   "cell_type": "markdown",
   "metadata": {
    "deletable": true,
    "editable": true
   },
   "source": [
    "## 3 面试算法\n",
    "1. 不要看算法导论\n",
    "2. 不要看普林斯顿的算法公开课\n",
    "3. 《Cracking The Coding Interview》原题不要看，非技术类内容可以看看\n",
    "4. 带名字的算法都不考\n",
    "5. 大公司会优先出medium难度问题\n",
    "6. Google 会出很多很偏很难的题，但是即使做一半或者次优解，也是有可能过的。"
   ]
  },
  {
   "cell_type": "markdown",
   "metadata": {
    "deletable": true,
    "editable": true
   },
   "source": [
    "## 4 Behavior Question\n",
    "1. 为什么选择这家公司  \n",
    "    要跪舔，表达非这家公司不可的态度，迫不及待想加入。\n",
    "2. 为什么离开上一家公司  \n",
    "    不要暴雷，还是强调想来这家公司的原因。"
   ]
  }
 ],
 "metadata": {
  "kernelspec": {
   "display_name": "Python_AIND",
   "language": "python",
   "name": "aind"
  },
  "language_info": {
   "codemirror_mode": {
    "name": "ipython",
    "version": 3
   },
   "file_extension": ".py",
   "mimetype": "text/x-python",
   "name": "python",
   "nbconvert_exporter": "python",
   "pygments_lexer": "ipython3",
   "version": "3.6.0"
  }
 },
 "nbformat": 4,
 "nbformat_minor": 2
}
