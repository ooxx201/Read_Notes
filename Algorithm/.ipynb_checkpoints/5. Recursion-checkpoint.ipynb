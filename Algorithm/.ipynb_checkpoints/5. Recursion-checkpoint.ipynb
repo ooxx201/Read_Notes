{
 "cells": [
  {
   "cell_type": "markdown",
   "id": "45f63a7b",
   "metadata": {},
   "source": [
    "## 递归\n",
    "1. 递归的定义：  \n",
    "    函数的具体涵义，参数与返回值  \n",
    "    F(n)\n",
    "2. 递归的拆解：  \n",
    "    如何将函数f转换为不同参数的函数f。  \n",
    "    F(n) = F(n-1) + F(n-2)\n",
    "3. 递归的出口：  \n",
    "    什么条件下终止递归  \n",
    "    F(1) = 1, F(0) = 0"
   ]
  }
 ],
 "metadata": {
  "kernelspec": {
   "display_name": "Python [conda env:AIND]",
   "language": "python",
   "name": "conda-env-AIND-py"
  },
  "language_info": {
   "codemirror_mode": {
    "name": "ipython",
    "version": 3
   },
   "file_extension": ".py",
   "mimetype": "text/x-python",
   "name": "python",
   "nbconvert_exporter": "python",
   "pygments_lexer": "ipython3",
   "version": "3.9.5"
  }
 },
 "nbformat": 4,
 "nbformat_minor": 5
}
