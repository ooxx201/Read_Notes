{
 "cells": [
  {
   "cell_type": "markdown",
   "metadata": {},
   "source": [
    "## Quick Sort\n",
    "1. Partition  \n",
    "    <pre>\n",
    "    |p-------------|-------------|  \n",
    "          <=p           >=p \n",
    "    </pre>\n",
    "    Here both side could be equal to p, this is for performance consider. If there are lots of p in the list, they may be send to one said then the partition size is not halfed.\n",
    "    So, when A[left] = A[right] = p, just left+=1, right -=1. Fairly devide the elements that equal to p.\n",
    "\n",
    "2. Pivot should not be A[start] or A[end], normally we use A[(start + end)/2].\n",
    "3. Get value not index\n",
    "4. Because we move the pointers when left <= right, after partition, we have left > right. Then the range is devided to 0 ~ right and left ~ len(A)-1.\n",
    "   If we move the pointers when left < right, then there will be stack overflow.\n",
    "5. "
   ]
  },
  {
   "cell_type": "code",
   "execution_count": null,
   "metadata": {},
   "outputs": [],
   "source": [
    "from typing import (\n",
    "    List,\n",
    ")\n",
    "\n",
    "class Solution:\n",
    "    \"\"\"\n",
    "    @param a: an integer array\n",
    "    @return: nothing\n",
    "    \"\"\"\n",
    "    def sort_integers(self, a: List[int]):\n",
    "        # write your code here\n",
    "        if not a:\n",
    "            return \n",
    "        \n",
    "        self.quickSort(a, 0, len(a) - 1)\n",
    "\n",
    "    def quickSort(self, a: List[int], start, end):\n",
    "        if (start >  end):\n",
    "            return\n",
    "        \n",
    "        left = start\n",
    "        right = end\n",
    "        pivot = a[(start + end)//2]\n",
    "\n",
    "        while (left <= right):\n",
    "            while (left <= right and a[left] < pivot):\n",
    "                left += 1\n",
    "            while (left <= right and a[right] > pivot):\n",
    "                right -= 1\n",
    "            \n",
    "            if (left <= right):\n",
    "                tmp = a[left]\n",
    "                a[left] = a[right]\n",
    "                a[right] = tmp\n",
    "                left += 1\n",
    "                right -= 1\n",
    "        \n",
    "        self.quickSort(a, start, right)\n",
    "        self.quickSort(a, left, end)"
   ]
  }
 ],
 "metadata": {
  "kernelspec": {
   "display_name": "Python [conda env:AIND]",
   "language": "python",
   "name": "conda-env-AIND-py"
  },
  "language_info": {
   "codemirror_mode": {
    "name": "ipython",
    "version": 3
   },
   "file_extension": ".py",
   "mimetype": "text/x-python",
   "name": "python",
   "nbconvert_exporter": "python",
   "pygments_lexer": "ipython3",
   "version": "3.9.5"
  }
 },
 "nbformat": 4,
 "nbformat_minor": 2
}
