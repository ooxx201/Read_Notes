{
 "cells": [
  {
   "cell_type": "markdown",
   "id": "62845921",
   "metadata": {},
   "source": [
    "## 回溯 Backtracking\n",
    "- 回溯法：就是深度优先搜索算法\n",
    "- 回溯操作：递归函数在回到上一层递归调用处的时候，一些参数需要改回到\n",
    "调用前的值，这个操作就是回溯，即让状态参数回到之前的值，递归调用前\n",
    "做了什么改动，递归调用之后都改回来"
   ]
  },
  {
   "cell_type": "code",
   "execution_count": null,
   "id": "ee323ecf",
   "metadata": {},
   "outputs": [],
   "source": []
  }
 ],
 "metadata": {
  "kernelspec": {
   "display_name": "Python [conda env:AIND]",
   "language": "python",
   "name": "conda-env-AIND-py"
  },
  "language_info": {
   "codemirror_mode": {
    "name": "ipython",
    "version": 3
   },
   "file_extension": ".py",
   "mimetype": "text/x-python",
   "name": "python",
   "nbconvert_exporter": "python",
   "pygments_lexer": "ipython3",
   "version": "3.9.5"
  }
 },
 "nbformat": 4,
 "nbformat_minor": 5
}
