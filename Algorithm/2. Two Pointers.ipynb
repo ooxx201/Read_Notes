{
 "cells": [
  {
   "cell_type": "markdown",
   "metadata": {},
   "source": [
    "## Two Pointers"
   ]
  },
  {
   "cell_type": "markdown",
   "metadata": {},
   "source": [
    "1. 降维\n",
    "    控制住一个维度，解决降一个维度的问题\n",
    "    3sum(s):\n",
    "    for i in range(n):\n",
    "        (a[i], 2sum(s - a[i]))\n",
    "2. 通过复杂度倒推算法\n",
    "    如果要求O(n)，那么只可能枚举法，双指针，单调栈/单调队列。"
   ]
  }
 ],
 "metadata": {
  "kernelspec": {
   "display_name": "Python [conda env:AIND]",
   "language": "python",
   "name": "conda-env-AIND-py"
  },
  "language_info": {
   "codemirror_mode": {
    "name": "ipython",
    "version": 3
   },
   "file_extension": ".py",
   "mimetype": "text/x-python",
   "name": "python",
   "nbconvert_exporter": "python",
   "pygments_lexer": "ipython3",
   "version": "3.9.5"
  }
 },
 "nbformat": 4,
 "nbformat_minor": 2
}
